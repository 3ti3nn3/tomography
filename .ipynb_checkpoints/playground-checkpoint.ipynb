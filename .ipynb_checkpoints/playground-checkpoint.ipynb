{
 "cells": [
  {
   "cell_type": "code",
   "execution_count": 75,
   "id": "cca0be4e-bbf4-4fab-9682-0e68f6a6d427",
   "metadata": {},
   "outputs": [],
   "source": [
    "import numpy as np\n",
    "import matplotlib.pyplot as plt\n",
    "from scipy.stats import unitary_group\n",
    "\n",
    "import check\n",
    "import general\n",
    "import inversion\n",
    "import mixed\n",
    "import mle\n",
    "import pure\n",
    "import simulate\n",
    "import speed\n",
    "import visualization\n",
    "import const"
   ]
  },
  {
   "cell_type": "code",
   "execution_count": 76,
   "id": "ab98cddf-17a1-410a-b99d-8b20d5b510d4",
   "metadata": {},
   "outputs": [],
   "source": [
    "arr = np.arange(8).reshape((4, 2))"
   ]
  },
  {
   "cell_type": "code",
   "execution_count": 77,
   "id": "d5daeeaf-24df-4bbd-8140-84226979114c",
   "metadata": {},
   "outputs": [
    {
     "name": "stderr",
     "output_type": "stream",
     "text": [
      "/var/folders/6q/7zspg0xj68g0zq09v2tt_hyh0000gn/T/ipykernel_46200/2835463383.py:1: DeprecationWarning: elementwise comparison failed; this will raise an error in the future.\n",
      "  arr == [1, 2, 4]\n"
     ]
    },
    {
     "data": {
      "text/plain": [
       "False"
      ]
     },
     "execution_count": 77,
     "metadata": {},
     "output_type": "execute_result"
    }
   ],
   "source": [
    "arr == [1, 2, 4]"
   ]
  },
  {
   "cell_type": "code",
   "execution_count": 79,
   "id": "647ef301-a476-4f3f-86e5-489b90bbdd41",
   "metadata": {},
   "outputs": [
    {
     "data": {
      "text/plain": [
       "array([[[0, 0],\n",
       "        [1, 0],\n",
       "        [2, 0],\n",
       "        [3, 0],\n",
       "        [4, 0],\n",
       "        [5, 0],\n",
       "        [6, 0],\n",
       "        [7, 0],\n",
       "        [8, 0],\n",
       "        [9, 0]],\n",
       "\n",
       "       [[0, 1],\n",
       "        [1, 1],\n",
       "        [2, 1],\n",
       "        [3, 1],\n",
       "        [4, 1],\n",
       "        [5, 1],\n",
       "        [6, 1],\n",
       "        [7, 1],\n",
       "        [8, 1],\n",
       "        [9, 1]]])"
      ]
     },
     "execution_count": 79,
     "metadata": {},
     "output_type": "execute_result"
    }
   ],
   "source": [
    "J = 10\n",
    "i = np.transpose([[np.arange(J), np.repeat(0, J)], [np.arange(J), np.repeat(1, J)]], axes=[0, 2, 1])\n",
    "i"
   ]
  },
  {
   "cell_type": "code",
   "execution_count": 90,
   "id": "456e125c-8128-497f-9f77-4e167b3cdb19",
   "metadata": {},
   "outputs": [
    {
     "data": {
      "text/plain": [
       "[array([[0, 1, 2, 3, 4, 5, 6, 7, 8, 9],\n",
       "        [0, 1, 2, 3, 4, 5, 6, 7, 8, 9]]),\n",
       " array([[0, 0, 0, 0, 0, 0, 0, 0, 0, 0],\n",
       "        [1, 1, 1, 1, 1, 1, 1, 1, 1, 1]])]"
      ]
     },
     "execution_count": 90,
     "metadata": {},
     "output_type": "execute_result"
    }
   ],
   "source": [
    "np.meshgrid(np.arange(J), [0, 1])"
   ]
  },
  {
   "cell_type": "code",
   "execution_count": 101,
   "id": "0dd5bb92-dbb2-4ec9-becb-748a7f119cf9",
   "metadata": {},
   "outputs": [
    {
     "data": {
      "text/plain": [
       "(20, 2)"
      ]
     },
     "execution_count": 101,
     "metadata": {},
     "output_type": "execute_result"
    }
   ],
   "source": [
    "np.concatenate(np.transpose(np.meshgrid(np.arange(J), [0, 1]), axes=[2, 1, 0]))"
   ]
  },
  {
   "cell_type": "code",
   "execution_count": 102,
   "id": "751780bf-9c7a-4fca-a268-e916600049ff",
   "metadata": {},
   "outputs": [
    {
     "ename": "ValueError",
     "evalue": "a must be 1-dimensional",
     "output_type": "error",
     "traceback": [
      "\u001b[0;31m---------------------------------------------------------------------------\u001b[0m",
      "\u001b[0;31mValueError\u001b[0m                                Traceback (most recent call last)",
      "\u001b[0;32m/var/folders/6q/7zspg0xj68g0zq09v2tt_hyh0000gn/T/ipykernel_46200/2752477004.py\u001b[0m in \u001b[0;36m<module>\u001b[0;34m\u001b[0m\n\u001b[0;32m----> 1\u001b[0;31m \u001b[0mnp\u001b[0m\u001b[0;34m.\u001b[0m\u001b[0mrandom\u001b[0m\u001b[0;34m.\u001b[0m\u001b[0mchoice\u001b[0m\u001b[0;34m(\u001b[0m\u001b[0;34m[\u001b[0m\u001b[0;34m[\u001b[0m\u001b[0;36m1\u001b[0m\u001b[0;34m,\u001b[0m \u001b[0;36m2\u001b[0m\u001b[0;34m]\u001b[0m\u001b[0;34m,\u001b[0m \u001b[0;34m[\u001b[0m\u001b[0;36m3\u001b[0m\u001b[0;34m,\u001b[0m \u001b[0;36m4\u001b[0m\u001b[0;34m]\u001b[0m\u001b[0;34m]\u001b[0m\u001b[0;34m,\u001b[0m \u001b[0mp\u001b[0m\u001b[0;34m=\u001b[0m\u001b[0;36m1\u001b[0m\u001b[0;34m/\u001b[0m\u001b[0;36m2\u001b[0m\u001b[0;34m*\u001b[0m\u001b[0mnp\u001b[0m\u001b[0;34m.\u001b[0m\u001b[0mones\u001b[0m\u001b[0;34m(\u001b[0m\u001b[0;34m(\u001b[0m\u001b[0;36m2\u001b[0m\u001b[0;34m,\u001b[0m \u001b[0;36m2\u001b[0m\u001b[0;34m)\u001b[0m\u001b[0;34m)\u001b[0m\u001b[0;34m)\u001b[0m\u001b[0;34m\u001b[0m\u001b[0;34m\u001b[0m\u001b[0m\n\u001b[0m",
      "\u001b[0;32mmtrand.pyx\u001b[0m in \u001b[0;36mnumpy.random.mtrand.RandomState.choice\u001b[0;34m()\u001b[0m\n",
      "\u001b[0;31mValueError\u001b[0m: a must be 1-dimensional"
     ]
    }
   ],
   "source": [
    "np.random.choice([[1, 2], [3, 4]], p=1/2*np.ones((2, 2)))"
   ]
  },
  {
   "cell_type": "code",
   "execution_count": 104,
   "id": "35742fcb-7d23-4dc0-9d24-7ef0adac4fd5",
   "metadata": {},
   "outputs": [
    {
     "data": {
      "text/plain": [
       "False"
      ]
     },
     "execution_count": 104,
     "metadata": {},
     "output_type": "execute_result"
    }
   ],
   "source": [
    "method = 'halo'\n",
    "method == 'hello'"
   ]
  },
  {
   "cell_type": "code",
   "execution_count": null,
   "id": "bfbafce9-693b-47cc-a6df-ab2cb5654987",
   "metadata": {},
   "outputs": [],
   "source": [
    "a = np.arange(8).reshape((4, 2))"
   ]
  }
 ],
 "metadata": {
  "kernelspec": {
   "display_name": "Python 3 (ipykernel)",
   "language": "python",
   "name": "python3"
  },
  "language_info": {
   "codemirror_mode": {
    "name": "ipython",
    "version": 3
   },
   "file_extension": ".py",
   "mimetype": "text/x-python",
   "name": "python",
   "nbconvert_exporter": "python",
   "pygments_lexer": "ipython3",
   "version": "3.9.7"
  }
 },
 "nbformat": 4,
 "nbformat_minor": 5
}
