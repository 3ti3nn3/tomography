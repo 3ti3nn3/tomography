{
 "cells": [
  {
   "cell_type": "code",
   "execution_count": 2,
   "id": "cca0be4e-bbf4-4fab-9682-0e68f6a6d427",
   "metadata": {},
   "outputs": [],
   "source": [
    "import numpy as np\n",
    "import matplotlib.pyplot as plt\n",
    "from scipy.stats import unitary_group\n",
    "import qutip as qt\n",
    "import numpy.linalg as LA\n",
    "\n",
    "import check\n",
    "import general\n",
    "import inversion\n",
    "import mixed\n",
    "import mle\n",
    "import pure\n",
    "import simulate\n",
    "import speed\n",
    "import visualization\n",
    "import const"
   ]
  },
  {
   "cell_type": "code",
   "execution_count": 59,
   "id": "35f875b1-5a0d-48dc-bc78-f476dfed5c2a",
   "metadata": {},
   "outputs": [
    {
     "data": {
      "text/plain": [
       "array([[ 4.44444444e-01+0.j,  2.22222222e-01+0.j,  1.11111111e-01+0.j,\n",
       "        -1.11111111e-01+0.j],\n",
       "       [ 2.22222222e-01+0.j,  4.44444444e-01+0.j,  1.11111111e-01+0.j,\n",
       "        -1.11111111e-01+0.j],\n",
       "       [ 1.11111111e-01+0.j,  1.11111111e-01+0.j,  1.11111111e-01+0.j,\n",
       "         3.70074342e-17+0.j],\n",
       "       [-1.11111111e-01+0.j, -1.11111111e-01+0.j,  3.70074342e-17+0.j,\n",
       "         5.55555556e-01+0.j]])"
      ]
     },
     "execution_count": 59,
     "metadata": {},
     "output_type": "execute_result"
    }
   ],
   "source": [
    "M     = const.pauli4\n",
    "T     = np.einsum('alk,bkl->ab', M, M)\n",
    "T_inv = np.linalg.inv(T)\n",
    "T"
   ]
  },
  {
   "cell_type": "code",
   "execution_count": 65,
   "id": "743bce58-4444-4a69-aaa3-b7e689ba3cab",
   "metadata": {},
   "outputs": [
    {
     "data": {
      "text/plain": [
       "array([0, 1, 2, 3, 4])"
      ]
     },
     "execution_count": 65,
     "metadata": {},
     "output_type": "execute_result"
    }
   ],
   "source": [
    "a = np.arange(5)[:5]\n",
    "a"
   ]
  },
  {
   "cell_type": "code",
   "execution_count": 68,
   "id": "40c04f07-9579-45a5-872d-93674f726f0d",
   "metadata": {},
   "outputs": [
    {
     "name": "stdout",
     "output_type": "stream",
     "text": [
      "1\n",
      "3\n",
      "5\n",
      "7\n",
      "9\n"
     ]
    }
   ],
   "source": [
    "for i in range(1, 10, 2): print(i)"
   ]
  },
  {
   "cell_type": "code",
   "execution_count": 70,
   "id": "89132145-03ba-4562-b11c-7f97b67b7063",
   "metadata": {},
   "outputs": [
    {
     "data": {
      "text/plain": [
       "array([1, 3, 5, 7, 9])"
      ]
     },
     "execution_count": 70,
     "metadata": {},
     "output_type": "execute_result"
    }
   ],
   "source": [
    "np.arange(1, 10)[::2]"
   ]
  },
  {
   "cell_type": "code",
   "execution_count": 4,
   "id": "60d11122-d39c-4fed-ab03-b4eb6f210531",
   "metadata": {},
   "outputs": [
    {
     "data": {
      "text/plain": [
       "0"
      ]
     },
     "execution_count": 4,
     "metadata": {},
     "output_type": "execute_result"
    }
   ],
   "source": [
    "np.int32(2/3)"
   ]
  },
  {
   "cell_type": "code",
   "execution_count": 6,
   "id": "721a55fd-a87d-4394-9877-44c7037c5555",
   "metadata": {},
   "outputs": [
    {
     "name": "stdout",
     "output_type": "stream",
     "text": [
      "1\n",
      "2\n",
      "3\n",
      "4\n",
      "5\n",
      "6\n",
      "7\n",
      "8\n",
      "9\n"
     ]
    }
   ],
   "source": [
    "for i in range(1, 10): print(i)"
   ]
  },
  {
   "cell_type": "code",
   "execution_count": 8,
   "id": "3ec960c8-72d1-4d3c-a207-9d2f3f71864c",
   "metadata": {},
   "outputs": [
    {
     "data": {
      "text/plain": [
       "array([0, 2, 4, 6, 8])"
      ]
     },
     "execution_count": 8,
     "metadata": {},
     "output_type": "execute_result"
    }
   ],
   "source": [
    "np.arange(10)[::2]"
   ]
  },
  {
   "cell_type": "code",
   "execution_count": 11,
   "id": "5a68805c-9dde-4559-9758-6141049b8635",
   "metadata": {},
   "outputs": [
    {
     "data": {
      "text/plain": [
       "array([1.e+01, 1.e+02, 1.e+03, 1.e+04, 1.e+05, 1.e+06, 1.e+07, 1.e+08,\n",
       "       1.e+09, 1.e+10])"
      ]
     },
     "execution_count": 11,
     "metadata": {},
     "output_type": "execute_result"
    }
   ],
   "source": [
    "np.logspace(1, 10, 10)"
   ]
  },
  {
   "cell_type": "code",
   "execution_count": 18,
   "id": "289b68ec-f03d-4178-8352-e0f0916be78d",
   "metadata": {},
   "outputs": [
    {
     "data": {
      "text/plain": [
       "array([          1,          12,         166,        2154,       27825,\n",
       "            359381,     4641588,    59948425,   774263682, 10000000000])"
      ]
     },
     "execution_count": 18,
     "metadata": {},
     "output_type": "execute_result"
    }
   ],
   "source": [
    "np.logspace(0, np.log(), 10, dtype=np.int64)\n"
   ]
  },
  {
   "cell_type": "code",
   "execution_count": 22,
   "id": "40f62b43-904e-483d-9342-bb67b9997e7c",
   "metadata": {},
   "outputs": [
    {
     "data": {
      "text/plain": [
       "array([    0,  1020,  2040,  3061,  4081,  5102,  6122,  7142,  8163,\n",
       "        9183, 10204, 11224, 12244, 13265, 14285, 15306, 16326, 17346,\n",
       "       18367, 19387, 20408, 21428, 22448, 23469, 24489, 25510, 26530,\n",
       "       27551, 28571, 29591, 30612, 31632, 32653, 33673, 34693, 35714,\n",
       "       36734, 37755, 38775, 39795, 40816, 41836, 42857, 43877, 44897,\n",
       "       45918, 46938, 47959, 48979, 50000])"
      ]
     },
     "execution_count": 22,
     "metadata": {},
     "output_type": "execute_result"
    }
   ],
   "source": [
    "N_max = 50000\n",
    "np.linspace(0, N_max, 50, dtype=np.int64)"
   ]
  },
  {
   "cell_type": "code",
   "execution_count": 23,
   "id": "30dde620-be38-4675-a49b-b76ad475fd9a",
   "metadata": {},
   "outputs": [
    {
     "data": {
      "text/latex": [
       "Quantum object: dims = [[2], [2]], shape = (2, 2), type = oper, isherm = True\\begin{equation*}\\left(\\begin{array}{*{11}c}0.755 & (-0.405-0.145j)\\\\(-0.405+0.145j) & 0.245\\\\\\end{array}\\right)\\end{equation*}"
      ],
      "text/plain": [
       "Quantum object: dims = [[2], [2]], shape = (2, 2), type = oper, isherm = True\n",
       "Qobj data =\n",
       "[[ 0.75488134+0.j         -0.40511638-0.14462441j]\n",
       " [-0.40511638+0.14462441j  0.24511866+0.j        ]]"
      ]
     },
     "execution_count": 23,
     "metadata": {},
     "output_type": "execute_result"
    }
   ],
   "source": [
    "rho_0 = pure.unitary_to_density(2, 1)\n",
    "qt.Qobj(rho_0)"
   ]
  },
  {
   "cell_type": "code",
   "execution_count": 26,
   "id": "a830517f-f16c-4204-bb09-15c910618fbd",
   "metadata": {},
   "outputs": [
    {
     "data": {
      "text/plain": [
       "100000000"
      ]
     },
     "execution_count": 26,
     "metadata": {},
     "output_type": "execute_result"
    }
   ],
   "source": [
    "np.int32(1e08)"
   ]
  },
  {
   "cell_type": "code",
   "execution_count": 30,
   "id": "6137d20d-070b-41f4-877f-474137ee2ffe",
   "metadata": {},
   "outputs": [
    {
     "data": {
      "text/plain": [
       "array([[2, 3],\n",
       "       [6, 7],\n",
       "       [4, 5],\n",
       "       [0, 1]])"
      ]
     },
     "execution_count": 30,
     "metadata": {},
     "output_type": "execute_result"
    }
   ],
   "source": [
    "arr = np.arange(8).reshape(4, 2)\n",
    "np.random.shuffle(arr)\n",
    "arr"
   ]
  },
  {
   "cell_type": "code",
   "execution_count": 75,
   "id": "ad978424-d64e-4cc4-8979-1256f54d7fb5",
   "metadata": {},
   "outputs": [
    {
     "name": "stdout",
     "output_type": "stream",
     "text": [
      "[0.02437524 0.95599317 0.74799188 0.0210897  0.43228863 0.20926339\n",
      " 0.69634356 0.81130976 0.60121444 0.33638433]\n"
     ]
    }
   ],
   "source": [
    "r = np.random.uniform(size=10)\n",
    "p_cum = np.array([1/4, 1/2, 3/4, 1])\n",
    "print(r)"
   ]
  },
  {
   "cell_type": "code",
   "execution_count": 78,
   "id": "9f138614-9def-4056-aa28-be566ff4bc42",
   "metadata": {},
   "outputs": [
    {
     "data": {
      "text/plain": [
       "array([0, 3, 2, 0, 1, 0, 2, 3, 2, 1])"
      ]
     },
     "execution_count": 78,
     "metadata": {},
     "output_type": "execute_result"
    }
   ],
   "source": [
    "np.argmax(p_cum>r[:, None], axis=1)"
   ]
  },
  {
   "cell_type": "code",
   "execution_count": 79,
   "id": "8ba29948-7c21-4ee2-a468-f2ea9010a64f",
   "metadata": {},
   "outputs": [
    {
     "data": {
      "text/plain": [
       "(10, 4)"
      ]
     },
     "execution_count": 79,
     "metadata": {},
     "output_type": "execute_result"
    }
   ],
   "source": [
    "a = p_cum>r[:, None]\n",
    "a.shape"
   ]
  },
  {
   "cell_type": "code",
   "execution_count": 81,
   "id": "2ca90ad7-7f67-476d-90c2-60043e1689b1",
   "metadata": {},
   "outputs": [
    {
     "data": {
      "text/plain": [
       "(array([0, 1]), array([1, 1]))"
      ]
     },
     "execution_count": 81,
     "metadata": {},
     "output_type": "execute_result"
    }
   ],
   "source": [
    "np.unique([0, 1], return_counts=True)"
   ]
  },
  {
   "cell_type": "code",
   "execution_count": 82,
   "id": "413713b3-07e8-4055-b36c-db475f4802d0",
   "metadata": {},
   "outputs": [
    {
     "data": {
      "text/plain": [
       "(array([0.21132487+5.66558315e-18j, 0.78867513-5.66558315e-18j]),\n",
       " array([[ 0.88807383+0.j        , -0.32505758+0.32505758j],\n",
       "        [ 0.32505758+0.32505758j,  0.88807383+0.j        ]]))"
      ]
     },
     "execution_count": 82,
     "metadata": {},
     "output_type": "execute_result"
    }
   ],
   "source": [
    "w, v = LA.eig(const.pauli4[3])"
   ]
  },
  {
   "cell_type": "code",
   "execution_count": 84,
   "id": "81f67890-1091-49d5-9100-54d9c1bbc4ac",
   "metadata": {},
   "outputs": [
    {
     "data": {
      "text/plain": [
       "0.7071067811865475"
      ]
     },
     "execution_count": 84,
     "metadata": {},
     "output_type": "execute_result"
    }
   ],
   "source": [
    "qt."
   ]
  },
  {
   "cell_type": "code",
   "execution_count": null,
   "id": "0047d615-7a06-490f-bd84-37373f9b12eb",
   "metadata": {},
   "outputs": [],
   "source": []
  }
 ],
 "metadata": {
  "kernelspec": {
   "display_name": "Python 3 (ipykernel)",
   "language": "python",
   "name": "python3"
  },
  "language_info": {
   "codemirror_mode": {
    "name": "ipython",
    "version": 3
   },
   "file_extension": ".py",
   "mimetype": "text/x-python",
   "name": "python",
   "nbconvert_exporter": "python",
   "pygments_lexer": "ipython3",
   "version": "3.9.7"
  }
 },
 "nbformat": 4,
 "nbformat_minor": 5
}
