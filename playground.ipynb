{
 "cells": [
  {
   "cell_type": "code",
   "execution_count": 65,
   "id": "cca0be4e-bbf4-4fab-9682-0e68f6a6d427",
   "metadata": {},
   "outputs": [],
   "source": [
    "import numpy as np\n",
    "import matplotlib.pyplot as plt\n",
    "from scipy.stats import unitary_group\n",
    "\n",
    "import const\n",
    "import check\n",
    "import general\n",
    "import inversion\n",
    "import mixed\n",
    "import mle\n",
    "import pure\n",
    "import simulate\n",
    "import speed\n",
    "import visualization"
   ]
  },
  {
   "cell_type": "code",
   "execution_count": 67,
   "id": "f9ccbd21-1011-4ba1-95e2-2843f0bfe2de",
   "metadata": {},
   "outputs": [],
   "source": [
    "ax = 1\n",
    "rho = np.array([[1, 0], [0, 0]])\n",
    "p = np.trace(np.array([rho@const.edensity[(ax, -1)], rho@const.edensity[(ax, 1)]]), axis1=-2, axis2=-1)"
   ]
  },
  {
   "cell_type": "code",
   "execution_count": 68,
   "id": "19213fa2-fa80-4a02-b513-af8572d929e0",
   "metadata": {},
   "outputs": [
    {
     "data": {
      "text/plain": [
       "array([0.5, 0.5])"
      ]
     },
     "execution_count": 68,
     "metadata": {},
     "output_type": "execute_result"
    }
   ],
   "source": [
    "p"
   ]
  },
  {
   "cell_type": "code",
   "execution_count": null,
   "id": "19d9a38e-c4bf-4986-99ac-c361f645f12e",
   "metadata": {},
   "outputs": [],
   "source": []
  }
 ],
 "metadata": {
  "kernelspec": {
   "display_name": "Python 3 (ipykernel)",
   "language": "python",
   "name": "python3"
  },
  "language_info": {
   "codemirror_mode": {
    "name": "ipython",
    "version": 3
   },
   "file_extension": ".py",
   "mimetype": "text/x-python",
   "name": "python",
   "nbconvert_exporter": "python",
   "pygments_lexer": "ipython3",
   "version": "3.9.7"
  }
 },
 "nbformat": 4,
 "nbformat_minor": 5
}
